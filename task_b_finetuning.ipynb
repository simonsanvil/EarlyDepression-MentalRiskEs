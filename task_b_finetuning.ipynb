{
  "cells": [
    {
      "attachments": {},
      "cell_type": "markdown",
      "metadata": {
        "id": "LkGP735y9hLG"
      },
      "source": [
        "We'll fine-tune a pre-trained RoBERTa model from HuggingFace to perform multi-output regression on this task's data. We'll use `RobertaPreTrainedModel` from the `transformers` library to do so."
      ]
    },
    {
      "cell_type": "code",
      "execution_count": null,
      "metadata": {
        "colab": {
          "base_uri": "https://localhost:8080/"
        },
        "id": "JwEuX1VRWHhJ",
        "outputId": "ed531703-ac0e-4c05-b32a-3c47dfca9ba9"
      },
      "outputs": [
        {
          "name": "stdout",
          "output_type": "stream",
          "text": [
            "/content/drive/MyDrive/Master/NLP\n"
          ]
        }
      ],
      "source": [
        "# Autoreload Modules\n",
        "%load_ext autoreload\n",
        "%autoreload 1"
      ]
    },
    {
      "cell_type": "code",
      "execution_count": null,
      "metadata": {
        "colab": {
          "base_uri": "https://localhost:8080/"
        },
        "id": "YiCRWXaE9JDy",
        "outputId": "8cf0b619-4ae7-49d5-b01d-ad659db6e15e"
      },
      "outputs": [],
      "source": [
        "!pip install transformers sentence-transformers accelerate datasets wandb"
      ]
    },
    {
      "cell_type": "code",
      "execution_count": null,
      "metadata": {
        "id": "xkEV_AxKtJ6-"
      },
      "outputs": [],
      "source": [
        "import numpy as np\n",
        "import pandas as pd\n",
        "\n",
        "from src import data\n",
        "from sklearn.model_selection import train_test_split"
      ]
    },
    {
      "cell_type": "code",
      "execution_count": null,
      "metadata": {
        "colab": {
          "base_uri": "https://localhost:8080/"
        },
        "id": "it2en0us9W-_",
        "outputId": "7cde6ff1-d2dc-4905-d995-09e1952bbd42"
      },
      "outputs": [
        {
          "name": "stdout",
          "output_type": "stream",
          "text": [
            "df_train.shape (augmented): (296, 12)\n",
            "df_train.shape (original): (175, 12)\n",
            "val_data.shape: (27, 12)\n",
            "test_df.shape: (149, 12)\n"
          ]
        }
      ],
      "source": [
        "# load the train and test data\n",
        "train_data = data.load('train')\n",
        "test_df = data.load('test')\n",
        "# concat messages by subject id\n",
        "train_data = data.concat_messages(train_data)\n",
        "test_df = data.concat_messages(test_df)\n",
        "\n",
        "# split into 15% of subject ids for validation\n",
        "# get the classes as the argmax of the label probabilities to use them for stratification\n",
        "subj_classes = train_data.set_index('subject_id').filter(regex='^d_')\\\n",
        "    .apply(lambda x: x.argmax() if x[:-1].sum()<0.5 else x[:-1].argmax(), axis=1)\\\n",
        "        .replace(dict(enumerate(train_data.filter(regex='^d_').columns)))\n",
        "tr_subj_ids, val_subj_ids = train_test_split(subj_classes.index, test_size=0.15, random_state=42, stratify=subj_classes.values)\n",
        "# split the train data into train and validation sets\n",
        "val_df = train_data[train_data['subject_id'].isin(val_subj_ids)]\n",
        "train_df = train_data[train_data['subject_id'].isin(tr_subj_ids)]\n",
        "\n",
        "# augment the train data by taking only the first half of the messages\n",
        "half_messages_df_train = train_df.assign(\n",
        "    message=lambda df: df['message'].apply(lambda x: ' | '.join(x.split(' | ')[:len(x.split(' | '))//2])),\n",
        "    # num_messages=lambda df: df['message'].apply(lambda x: len(x.split(' | ')))\n",
        ")\n",
        "train_df = pd.concat([train_df, half_messages_df_train], axis=0).sort_values('subject_id').reset_index(drop=True)\n",
        "print(f\"df_train.shape (augmented): {train_df.shape}\")\n",
        "print(f\"df_train.shape (original): {train_data.shape}\")\n",
        "print(f\"val_data.shape: {val_df.shape}\")\n",
        "print(f\"test_df.shape: {test_df.shape}\")"
      ]
    },
    {
      "attachments": {},
      "cell_type": "markdown",
      "metadata": {
        "id": "1TLL6jEgJOVL"
      },
      "source": [
        "Augment data by adding rows that only contain half of the messages of a subject - this is done to simulate the case where a lower number of messages are available for early risk detection."
      ]
    },
    {
      "cell_type": "code",
      "execution_count": null,
      "metadata": {
        "colab": {
          "base_uri": "https://localhost:8080/"
        },
        "id": "YIpgWSOp_nKx",
        "outputId": "9a1b711e-465a-4abf-ad9c-8de245f30088"
      },
      "outputs": [],
      "source": [
        "# config\n",
        "from transformers import AutoConfig, AutoTokenizer, RobertaPreTrainedModel, AdamW\n",
        "from src.roberta_regressor import RobertaRegressor, multi_reg_loss, train, evaluate\n",
        "import transformers\n",
        "import numpy as np\n",
        "import pandas as pd\n",
        "import torch\n",
        "\n",
        "# model_name = \"PlanTL-GOB-ES/roberta-base-bne\"\n",
        "model_name = 'hackathon-somos-nlp-2023/roberta-base-bne-finetuned-suicide-es'\n",
        "model = RobertaPreTrainedModel.from_pretrained(model_name)\n",
        "config = AutoConfig.from_pretrained(model_name)\n",
        "tokenizer = AutoTokenizer.from_pretrained(model_name)\n",
        "model = RobertaRegressor.from_pretrained(model_name, num_outputs=1)"
      ]
    },
    {
      "cell_type": "code",
      "execution_count": null,
      "metadata": {
        "id": "gIeX1bR5_qNy"
      },
      "outputs": [],
      "source": [
        "# prepare the data\n",
        "from torch.utils.data import Dataset, DataLoader\n",
        "\n",
        "import pandas as pd\n",
        "\n",
        "class MentalRiskDataset(Dataset):\n",
        "\n",
        "    def __init__(self, data: pd.DataFrame, tokenizer, max_len: int = 1024):\n",
        "        self.data = data\n",
        "        self.tokenizer = tokenizer\n",
        "        self.max_len = max_len\n",
        "\n",
        "    def __len__(self):\n",
        "        return len(self.data)\n",
        "\n",
        "    def __getitem__(self, index: int):\n",
        "        data_row = self.data.iloc[index]\n",
        "        text = data_row.message\n",
        "        label = torch.tensor(data_row.label)\n",
        "        tokens = self.tokenizer.tokenize(text, padding=True, truncation=True)\n",
        "        if len(tokens) > self.max_len - 2:\n",
        "            tokens = tokens[:self.max_len - 2]\n",
        "        tokens = ['[CLS]'] + tokens + ['[SEP]']\n",
        "        if len(tokens) < self.max_len:\n",
        "            tokens = tokens + ['[PAD]' for _ in range(self.max_len - len(tokens))]\n",
        "        else:\n",
        "            tokens = tokens[:self.max_len-1] + ['[SEP]']\n",
        "        input_ids = torch.tensor(self.tokenizer.convert_tokens_to_ids(tokens)).squeeze(0)\n",
        "        # pooling layer\n",
        "\n",
        "        attention_mask = (input_ids != 0).long()\n",
        "        return input_ids, attention_mask, label.view(1,len(data_row.label))\n"
      ]
    },
    {
      "cell_type": "code",
      "execution_count": null,
      "metadata": {
        "colab": {
          "base_uri": "https://localhost:8080/",
          "height": 368
        },
        "id": "wL_scTSB_-1V",
        "outputId": "d176c229-84c9-4cd3-8417-65a5d0ef75a6"
      },
      "outputs": [
        {
          "data": {
            "text/html": [
              "\n",
              "  <div id=\"df-33399399-f56b-4eea-b621-7a1a276b706c\">\n",
              "    <div class=\"colab-df-container\">\n",
              "      <div>\n",
              "<style scoped>\n",
              "    .dataframe tbody tr th:only-of-type {\n",
              "        vertical-align: middle;\n",
              "    }\n",
              "\n",
              "    .dataframe tbody tr th {\n",
              "        vertical-align: top;\n",
              "    }\n",
              "\n",
              "    .dataframe thead th {\n",
              "        text-align: right;\n",
              "    }\n",
              "</style>\n",
              "<table border=\"1\" class=\"dataframe\">\n",
              "  <thead>\n",
              "    <tr style=\"text-align: right;\">\n",
              "      <th></th>\n",
              "      <th>message</th>\n",
              "      <th>label</th>\n",
              "    </tr>\n",
              "    <tr>\n",
              "      <th>subject_id</th>\n",
              "      <th></th>\n",
              "      <th></th>\n",
              "    </tr>\n",
              "  </thead>\n",
              "  <tbody>\n",
              "    <tr>\n",
              "      <th>subject104</th>\n",
              "      <td>Sin duda alguna , mal | Algo general que puedo...</td>\n",
              "      <td>[0.7]</td>\n",
              "    </tr>\n",
              "    <tr>\n",
              "      <th>subject104</th>\n",
              "      <td>Sin duda alguna , mal | Algo general que puedo...</td>\n",
              "      <td>[0.7]</td>\n",
              "    </tr>\n",
              "    <tr>\n",
              "      <th>subject108</th>\n",
              "      <td>Ocupado con la uni | Unmsm es universidad naci...</td>\n",
              "      <td>[0.5]</td>\n",
              "    </tr>\n",
              "  </tbody>\n",
              "</table>\n",
              "</div>\n",
              "      <button class=\"colab-df-convert\" onclick=\"convertToInteractive('df-33399399-f56b-4eea-b621-7a1a276b706c')\"\n",
              "              title=\"Convert this dataframe to an interactive table.\"\n",
              "              style=\"display:none;\">\n",
              "        \n",
              "  <svg xmlns=\"http://www.w3.org/2000/svg\" height=\"24px\"viewBox=\"0 0 24 24\"\n",
              "       width=\"24px\">\n",
              "    <path d=\"M0 0h24v24H0V0z\" fill=\"none\"/>\n",
              "    <path d=\"M18.56 5.44l.94 2.06.94-2.06 2.06-.94-2.06-.94-.94-2.06-.94 2.06-2.06.94zm-11 1L8.5 8.5l.94-2.06 2.06-.94-2.06-.94L8.5 2.5l-.94 2.06-2.06.94zm10 10l.94 2.06.94-2.06 2.06-.94-2.06-.94-.94-2.06-.94 2.06-2.06.94z\"/><path d=\"M17.41 7.96l-1.37-1.37c-.4-.4-.92-.59-1.43-.59-.52 0-1.04.2-1.43.59L10.3 9.45l-7.72 7.72c-.78.78-.78 2.05 0 2.83L4 21.41c.39.39.9.59 1.41.59.51 0 1.02-.2 1.41-.59l7.78-7.78 2.81-2.81c.8-.78.8-2.07 0-2.86zM5.41 20L4 18.59l7.72-7.72 1.47 1.35L5.41 20z\"/>\n",
              "  </svg>\n",
              "      </button>\n",
              "      \n",
              "  <style>\n",
              "    .colab-df-container {\n",
              "      display:flex;\n",
              "      flex-wrap:wrap;\n",
              "      gap: 12px;\n",
              "    }\n",
              "\n",
              "    .colab-df-convert {\n",
              "      background-color: #E8F0FE;\n",
              "      border: none;\n",
              "      border-radius: 50%;\n",
              "      cursor: pointer;\n",
              "      display: none;\n",
              "      fill: #1967D2;\n",
              "      height: 32px;\n",
              "      padding: 0 0 0 0;\n",
              "      width: 32px;\n",
              "    }\n",
              "\n",
              "    .colab-df-convert:hover {\n",
              "      background-color: #E2EBFA;\n",
              "      box-shadow: 0px 1px 2px rgba(60, 64, 67, 0.3), 0px 1px 3px 1px rgba(60, 64, 67, 0.15);\n",
              "      fill: #174EA6;\n",
              "    }\n",
              "\n",
              "    [theme=dark] .colab-df-convert {\n",
              "      background-color: #3B4455;\n",
              "      fill: #D2E3FC;\n",
              "    }\n",
              "\n",
              "    [theme=dark] .colab-df-convert:hover {\n",
              "      background-color: #434B5C;\n",
              "      box-shadow: 0px 1px 3px 1px rgba(0, 0, 0, 0.15);\n",
              "      filter: drop-shadow(0px 1px 2px rgba(0, 0, 0, 0.3));\n",
              "      fill: #FFFFFF;\n",
              "    }\n",
              "  </style>\n",
              "\n",
              "      <script>\n",
              "        const buttonEl =\n",
              "          document.querySelector('#df-33399399-f56b-4eea-b621-7a1a276b706c button.colab-df-convert');\n",
              "        buttonEl.style.display =\n",
              "          google.colab.kernel.accessAllowed ? 'block' : 'none';\n",
              "\n",
              "        async function convertToInteractive(key) {\n",
              "          const element = document.querySelector('#df-33399399-f56b-4eea-b621-7a1a276b706c');\n",
              "          const dataTable =\n",
              "            await google.colab.kernel.invokeFunction('convertToInteractive',\n",
              "                                                     [key], {});\n",
              "          if (!dataTable) return;\n",
              "\n",
              "          const docLinkHtml = 'Like what you see? Visit the ' +\n",
              "            '<a target=\"_blank\" href=https://colab.research.google.com/notebooks/data_table.ipynb>data table notebook</a>'\n",
              "            + ' to learn more about interactive tables.';\n",
              "          element.innerHTML = '';\n",
              "          dataTable['output_type'] = 'display_data';\n",
              "          await google.colab.output.renderOutput(dataTable, element);\n",
              "          const docLink = document.createElement('div');\n",
              "          docLink.innerHTML = docLinkHtml;\n",
              "          element.appendChild(docLink);\n",
              "        }\n",
              "      </script>\n",
              "    </div>\n",
              "  </div>\n",
              "  "
            ],
            "text/plain": [
              "                                                      message  label\n",
              "subject_id                                                          \n",
              "subject104  Sin duda alguna , mal | Algo general que puedo...  [0.7]\n",
              "subject104  Sin duda alguna , mal | Algo general que puedo...  [0.7]\n",
              "subject108  Ocupado con la uni | Unmsm es universidad naci...  [0.5]"
            ]
          },
          "metadata": {},
          "output_type": "display_data"
        },
        {
          "data": {
            "text/html": [
              "\n",
              "  <div id=\"df-b04d8808-1cbd-48af-83bb-7ae9518ea048\">\n",
              "    <div class=\"colab-df-container\">\n",
              "      <div>\n",
              "<style scoped>\n",
              "    .dataframe tbody tr th:only-of-type {\n",
              "        vertical-align: middle;\n",
              "    }\n",
              "\n",
              "    .dataframe tbody tr th {\n",
              "        vertical-align: top;\n",
              "    }\n",
              "\n",
              "    .dataframe thead th {\n",
              "        text-align: right;\n",
              "    }\n",
              "</style>\n",
              "<table border=\"1\" class=\"dataframe\">\n",
              "  <thead>\n",
              "    <tr style=\"text-align: right;\">\n",
              "      <th></th>\n",
              "      <th>message</th>\n",
              "      <th>label</th>\n",
              "    </tr>\n",
              "    <tr>\n",
              "      <th>subject_id</th>\n",
              "      <th></th>\n",
              "      <th></th>\n",
              "    </tr>\n",
              "  </thead>\n",
              "  <tbody>\n",
              "    <tr>\n",
              "      <th>subject101</th>\n",
              "      <td>volvi me extrañaron signo de interrogación | y...</td>\n",
              "      <td>[0.9]</td>\n",
              "    </tr>\n",
              "    <tr>\n",
              "      <th>subject106</th>\n",
              "      <td>Nunca me imagine terminar tan mal | Y necesita...</td>\n",
              "      <td>[1.0]</td>\n",
              "    </tr>\n",
              "    <tr>\n",
              "      <th>subject11</th>\n",
              "      <td>Y al día de hoy , cómo sigues después de todo ...</td>\n",
              "      <td>[0.0]</td>\n",
              "    </tr>\n",
              "  </tbody>\n",
              "</table>\n",
              "</div>\n",
              "      <button class=\"colab-df-convert\" onclick=\"convertToInteractive('df-b04d8808-1cbd-48af-83bb-7ae9518ea048')\"\n",
              "              title=\"Convert this dataframe to an interactive table.\"\n",
              "              style=\"display:none;\">\n",
              "        \n",
              "  <svg xmlns=\"http://www.w3.org/2000/svg\" height=\"24px\"viewBox=\"0 0 24 24\"\n",
              "       width=\"24px\">\n",
              "    <path d=\"M0 0h24v24H0V0z\" fill=\"none\"/>\n",
              "    <path d=\"M18.56 5.44l.94 2.06.94-2.06 2.06-.94-2.06-.94-.94-2.06-.94 2.06-2.06.94zm-11 1L8.5 8.5l.94-2.06 2.06-.94-2.06-.94L8.5 2.5l-.94 2.06-2.06.94zm10 10l.94 2.06.94-2.06 2.06-.94-2.06-.94-.94-2.06-.94 2.06-2.06.94z\"/><path d=\"M17.41 7.96l-1.37-1.37c-.4-.4-.92-.59-1.43-.59-.52 0-1.04.2-1.43.59L10.3 9.45l-7.72 7.72c-.78.78-.78 2.05 0 2.83L4 21.41c.39.39.9.59 1.41.59.51 0 1.02-.2 1.41-.59l7.78-7.78 2.81-2.81c.8-.78.8-2.07 0-2.86zM5.41 20L4 18.59l7.72-7.72 1.47 1.35L5.41 20z\"/>\n",
              "  </svg>\n",
              "      </button>\n",
              "      \n",
              "  <style>\n",
              "    .colab-df-container {\n",
              "      display:flex;\n",
              "      flex-wrap:wrap;\n",
              "      gap: 12px;\n",
              "    }\n",
              "\n",
              "    .colab-df-convert {\n",
              "      background-color: #E8F0FE;\n",
              "      border: none;\n",
              "      border-radius: 50%;\n",
              "      cursor: pointer;\n",
              "      display: none;\n",
              "      fill: #1967D2;\n",
              "      height: 32px;\n",
              "      padding: 0 0 0 0;\n",
              "      width: 32px;\n",
              "    }\n",
              "\n",
              "    .colab-df-convert:hover {\n",
              "      background-color: #E2EBFA;\n",
              "      box-shadow: 0px 1px 2px rgba(60, 64, 67, 0.3), 0px 1px 3px 1px rgba(60, 64, 67, 0.15);\n",
              "      fill: #174EA6;\n",
              "    }\n",
              "\n",
              "    [theme=dark] .colab-df-convert {\n",
              "      background-color: #3B4455;\n",
              "      fill: #D2E3FC;\n",
              "    }\n",
              "\n",
              "    [theme=dark] .colab-df-convert:hover {\n",
              "      background-color: #434B5C;\n",
              "      box-shadow: 0px 1px 3px 1px rgba(0, 0, 0, 0.15);\n",
              "      filter: drop-shadow(0px 1px 2px rgba(0, 0, 0, 0.3));\n",
              "      fill: #FFFFFF;\n",
              "    }\n",
              "  </style>\n",
              "\n",
              "      <script>\n",
              "        const buttonEl =\n",
              "          document.querySelector('#df-b04d8808-1cbd-48af-83bb-7ae9518ea048 button.colab-df-convert');\n",
              "        buttonEl.style.display =\n",
              "          google.colab.kernel.accessAllowed ? 'block' : 'none';\n",
              "\n",
              "        async function convertToInteractive(key) {\n",
              "          const element = document.querySelector('#df-b04d8808-1cbd-48af-83bb-7ae9518ea048');\n",
              "          const dataTable =\n",
              "            await google.colab.kernel.invokeFunction('convertToInteractive',\n",
              "                                                     [key], {});\n",
              "          if (!dataTable) return;\n",
              "\n",
              "          const docLinkHtml = 'Like what you see? Visit the ' +\n",
              "            '<a target=\"_blank\" href=https://colab.research.google.com/notebooks/data_table.ipynb>data table notebook</a>'\n",
              "            + ' to learn more about interactive tables.';\n",
              "          element.innerHTML = '';\n",
              "          dataTable['output_type'] = 'display_data';\n",
              "          await google.colab.output.renderOutput(dataTable, element);\n",
              "          const docLink = document.createElement('div');\n",
              "          docLink.innerHTML = docLinkHtml;\n",
              "          element.appendChild(docLink);\n",
              "        }\n",
              "      </script>\n",
              "    </div>\n",
              "  </div>\n",
              "  "
            ],
            "text/plain": [
              "                                                      message  label\n",
              "subject_id                                                          \n",
              "subject101  volvi me extrañaron signo de interrogación | y...  [0.9]\n",
              "subject106  Nunca me imagine terminar tan mal | Y necesita...  [1.0]\n",
              "subject11   Y al día de hoy , cómo sigues después de todo ...  [0.0]"
            ]
          },
          "metadata": {},
          "output_type": "display_data"
        },
        {
          "name": "stdout",
          "output_type": "stream",
          "text": [
            "train_df.shape: (296, 2)\n",
            "val_df.shape: (27, 2)\n"
          ]
        }
      ],
      "source": [
        "from sklearn.model_selection import train_test_split\n",
        "df_train = train_df.set_index('subject_id').assign(\n",
        "    label=lambda df: df.filter(regex='^b_').values.tolist()\n",
        ")[['message', 'label']]\n",
        "df_val = val_df.set_index('subject_id').assign(\n",
        "    label=lambda df: df.filter(regex='^b_').values.tolist()\n",
        ")[['message', 'label']]\n",
        "\n",
        "display(df_train.head(3))\n",
        "display(df_val.head(3))\n",
        "print(f\"train_df.shape: {df_train.shape}\")\n",
        "print(f\"val_df.shape: {df_val.shape}\")\n",
        "\n",
        "MAX_LEN = 512\n",
        "\n",
        "train_dataset = MentalRiskDataset(df_train, tokenizer, max_len=MAX_LEN)\n",
        "# test_dataset = MentalRiskDataset(test_df, tokenizer)\n",
        "val_dataset = MentalRiskDataset(df_val.sample(frac=0.3), tokenizer, max_len=MAX_LEN)\n",
        "\n",
        "train_loader = DataLoader(train_dataset, batch_size=1, shuffle=True)\n",
        "# test_loader = DataLoader(test_dataset, batch_size=32, shuffle=False)\n",
        "val_loader = DataLoader(val_dataset, batch_size=1, shuffle=False)"
      ]
    },
    {
      "cell_type": "code",
      "execution_count": null,
      "metadata": {
        "colab": {
          "base_uri": "https://localhost:8080/"
        },
        "id": "C6YZIU1mX1w7",
        "outputId": "04a67d36-1c29-4b09-a9eb-5ab4f795a456"
      },
      "outputs": [
        {
          "data": {
            "text/plain": [
              "torch.Size([1, 1])"
            ]
          },
          "execution_count": 59,
          "metadata": {},
          "output_type": "execute_result"
        }
      ],
      "source": [
        "_,_,label = train_dataset.__getitem__(0)\n",
        "label.size()"
      ]
    },
    {
      "attachments": {},
      "cell_type": "markdown",
      "metadata": {
        "id": "ZIaOFKwuEa73"
      },
      "source": [
        "### Train the model:"
      ]
    },
    {
      "cell_type": "code",
      "execution_count": null,
      "metadata": {
        "colab": {
          "base_uri": "https://localhost:8080/",
          "height": 273,
          "referenced_widgets": [
            "8e31c7d05a1346738712f8b2294f555f",
            "453304cdc2784f40a822d7509c3dae94",
            "23157509c9594124a8e6a7b02f096765",
            "5666c874f62c47cc87bafdbd5cc05968",
            "e908b9b7357b452da7e3671c3dc5df9c",
            "0a2d7f61cba84acaafff208e7c885274",
            "bf4fd824aa03482f9f13a1133a9c7080",
            "49298f2b50fa4d83bae0ecc1e74217f2"
          ]
        },
        "id": "uJajfyk7nrRY",
        "outputId": "b3168218-1b8d-4d06-b301-e135dc0695e8"
      },
      "outputs": [],
      "source": [
        "import wandb # to log the training progress\n",
        "\n",
        "# start a new wandb run to track this script\n",
        "wandb.init(\n",
        "    # set the wandb project where this run will be logged\n",
        "    project=\"mentalriskes-roberta-finetuning\",\n",
        "    # track hyperparameters and run metadata\n",
        "    config={\n",
        "    \"init_learning_rate\": 3e-5,\n",
        "    \"architecture\": \"BERT\",\n",
        "    \"dataset\": \"MENTALRISKES\"}\n",
        ")\n",
        "def evaluate(model, criterion, dataloader, device):\n",
        "    \"\"\"\n",
        "    To evaluate the model on the validation set\n",
        "    \"\"\"\n",
        "    model.eval()\n",
        "    mean_acc, mean_loss, count = 0, 0, 0\n",
        "\n",
        "    with torch.no_grad():\n",
        "        for input_ids, attention_mask, target in (dataloader):\n",
        "\n",
        "            input_ids, attention_mask, target = input_ids.to(device), attention_mask.to(device), target.to(device)\n",
        "            output = model(input_ids, attention_mask)\n",
        "            mean_loss += criterion(output, target.view(1,1)).item()\n",
        "            count += 1\n",
        "\n",
        "    return mean_loss/count"
      ]
    },
    {
      "cell_type": "code",
      "execution_count": null,
      "metadata": {
        "id": "Z9v3uIuB2K2S"
      },
      "outputs": [],
      "source": [
        "from torch.nn import CrossEntropyLoss, MSELoss\n",
        "from torch.optim import AdamW\n",
        "criterion = MSELoss() #multi_reg_loss(\"cross_entropy\",sum_diff_penalty=0)\n",
        "optimizer = AdamW(params=model.parameters(), lr=3e-5)\n",
        "device = \"cuda\"\n",
        "\n",
        "num_epochs = 30\n",
        "unfreeze_at = 15 # epoch\n",
        "unfreeze_percent = 0.1 # 0.1 = 10% of the (last) layers will be unfrozen at each epoch after unfreeze_at\n",
        "unfrozen_count = 0\n",
        "loss_per_epoch = []\n",
        "\n",
        "num_training_steps=len(train_loader) * num_epochs\n",
        "scheduler = transformers.get_scheduler(\n",
        "    \"linear\",\n",
        "    optimizer=optimizer,\n",
        "    num_warmup_steps=len(train_loader)*(unfreeze_at-2),\n",
        "    num_training_steps=num_training_steps+10\n",
        ")\n",
        "roberta_params = list(model.roberta.parameters())"
      ]
    },
    {
      "cell_type": "code",
      "execution_count": null,
      "metadata": {
        "id": "PEo-dqWI7qGa"
      },
      "outputs": [],
      "source": [
        "tab = wandb.Table(dataframe=train_df.head(5))\n",
        "wandb.log({'data_sample':tab})"
      ]
    },
    {
      "cell_type": "code",
      "execution_count": null,
      "metadata": {
        "id": "QG4G7fRnps7k"
      },
      "outputs": [],
      "source": [
        "# for the final model the train set includes the validation\n",
        "# train_dataset_final = MentalRiskDataset(pd.concat([df_train, df_val]),tokenizer, max_len=MAX_LEN)\n",
        "# train_loader = DataLoader(train_dataset_final, batch_size=1, shuffle=True)"
      ]
    },
    {
      "cell_type": "code",
      "execution_count": null,
      "metadata": {
        "colab": {
          "base_uri": "https://localhost:8080/"
        },
        "id": "7ZogTNORA9Ta",
        "outputId": "8addc39d-6038-4db8-fa7a-3782e3f60f83"
      },
      "outputs": [],
      "source": [
        "from tqdm import trange\n",
        "\n",
        "first_epoch = 0\n",
        "epochs = 30 #num_epochs\n",
        "log_every = 3\n",
        "save_every = 10\n",
        "model = model.to(device)\n",
        "for epoch in trange(first_epoch, epochs, desc=\"Epoch\"):\n",
        "    model.train()\n",
        "    train_loss = 0\n",
        "    for i, (input_ids, attention_mask, target) in enumerate(iterable=train_loader):\n",
        "        optimizer.zero_grad()\n",
        "\n",
        "        input_ids, attention_mask, target = input_ids.to(device), attention_mask.to(device), target.squeeze(-1).to(device)\n",
        "\n",
        "        output = model(input_ids=input_ids, attention_mask=attention_mask)\n",
        "        loss = criterion(output[0], target[0].type_as(output))\n",
        "        loss.backward()\n",
        "        optimizer.step()\n",
        "        scheduler.step()\n",
        "        train_loss += loss.item()\n",
        "    if unfreeze_at and epoch>=unfreeze_at:\n",
        "      print(f\"Unfreezing params at epoch {epoch}\")\n",
        "      # unfreeze the roberta parameters\n",
        "      if unfrozen_count < len(roberta_params):\n",
        "        unfrozen_count += int(len(roberta_params) * unfreeze_percent)\n",
        "        for param in roberta_params[-unfrozen_count:]:\n",
        "          param.requires_grad = True\n",
        "    if (epoch%log_every == 0 or (epoch==epochs-1)):\n",
        "      print(f\"Training loss is {train_loss/len(train_loader)}\")\n",
        "      val_loss = evaluate(model=model, criterion=criterion, dataloader=val_loader, device=device)\n",
        "      print(\"Epoch {} complete! Validation Loss : {}\".format(epoch+1, val_loss))\n",
        "      loss_dict = {\n",
        "        \"epoch\":epoch,\n",
        "        \"train\":train_loss/len(train_loader),\n",
        "        \"validation\":val_loss,\n",
        "        \"lr\":optimizer.param_groups[0]['lr']\n",
        "      }\n",
        "      loss_per_epoch.append(loss_dict)\n",
        "      wandb.log(loss_dict)"
      ]
    },
    {
      "cell_type": "code",
      "execution_count": null,
      "metadata": {
        "colab": {
          "base_uri": "https://localhost:8080/",
          "height": 449
        },
        "id": "cBBDcRHuvIew",
        "outputId": "1a9c1c32-d605-4a55-f174-0588fbbab8ff"
      },
      "outputs": [],
      "source": [
        "# plot\n",
        "import matplotlib.pyplot as plt\n",
        "loss_df = pd.DataFrame(loss_per_epoch).assign(epoch=lambda df: df.epoch + 1).drop_duplicates(subset=['epoch'])\n",
        "ax = loss_df.loc[loss_df.epoch!=20, ['epoch','train','validation']].set_index('epoch').plot()\n",
        "ax.grid(); ax.set(ylabel=\"Loss (Cross-Entropy)\");\n",
        "ax.set_xticks(loss_df[loss_df.epoch!=20].epoch.values)\n",
        "# ax.vlines(unfreeze_at,0.85,1.25,'r','dashed', alpha=0.7, label=\"weight unfreeze\")\n",
        "plt.legend()\n",
        "plt.show()"
      ]
    },
    {
      "cell_type": "code",
      "execution_count": null,
      "metadata": {
        "id": "v-Yz6SsfCW70"
      },
      "outputs": [],
      "source": [
        "# save the model\n",
        "# import pickle\n",
        "# pickle.dump(model.cpu(), open(f'/content/drive/MyDrive/Master/NLP/roberta-base-bne-finetuned-simple-reg-final-{epoch+1}.pkl', \"wb\"))"
      ]
    },
    {
      "cell_type": "code",
      "execution_count": null,
      "metadata": {
        "id": "RPNefDBBCGAG"
      },
      "outputs": [],
      "source": [
        "from typing import Tuple\n",
        "# model = model.cpu()\n",
        "device=\"cuda\"\n",
        "\n",
        "def predict(text:str, model, tokenizer, device) -> Tuple[float, float, float, float]:\n",
        "    input_ids, attention_mask = tokenizer.encode_plus(text, padding=True, truncation=True, return_tensors='pt').values()\n",
        "    input_ids, attention_mask = input_ids.to(device), attention_mask.to(device)\n",
        "    output = model(input_ids, attention_mask).squeeze()\n",
        "    # free up memory\n",
        "    del input_ids, attention_mask\n",
        "    return output.detach()\n",
        "\n",
        "def label_metrics(score_fun, y_true, y_pred):\n",
        "    return score_fun(y_true, y_pred)"
      ]
    },
    {
      "cell_type": "code",
      "execution_count": null,
      "metadata": {
        "colab": {
          "base_uri": "https://localhost:8080/",
          "height": 520
        },
        "id": "WuHTlvh4_qPU",
        "outputId": "58aefd58-f3a5-449e-8103-832a50db6c90"
      },
      "outputs": [],
      "source": [
        "val_df = val_df.assign(label=lambda df: df.filter(regex='^b_').values.tolist())\n",
        "device = \"cuda\"\n",
        "model.cuda()\n",
        "val_predictions = val_df.message.apply(lambda x: predict(x, model, tokenizer, device=device))\n",
        "results_df = test_df.assign(\n",
        "    predicted_raw=val_predictions.apply(lambda x: x.cpu().numpy().round(2)).tolist()\n",
        ")\n",
        "results_df.head(3)"
      ]
    },
    {
      "cell_type": "code",
      "execution_count": null,
      "metadata": {
        "colab": {
          "base_uri": "https://localhost:8080/"
        },
        "id": "-17rQBMj1xsO",
        "outputId": "fa3cc417-dca5-479d-ff85-552227c840fd"
      },
      "outputs": [
        {
          "name": "stdout",
          "output_type": "stream",
          "text": [
            "R2 score is 0.049733651435731\n",
            "RMSE score is 0.21255671787144495\n"
          ]
        }
      ],
      "source": [
        "from sklearn.metrics import r2_score, mean_squared_error\n",
        "pred_div_sum = results_df.predicted_raw.apply(lambda x: np.array(x)/sum(x))\n",
        "r2 = r2_score(results_df.label.tolist(), results_df.predicted.tolist())\n",
        "rmse = mean_squared_error(results_df.label.tolist(), results_df.predicted.tolist(), squared=False)\n",
        "print(f\"R2 score is {r2}\")\n",
        "print(f\"RMSE score is {rmse}\")"
      ]
    },
    {
      "cell_type": "code",
      "execution_count": null,
      "metadata": {
        "colab": {
          "base_uri": "https://localhost:8080/"
        },
        "id": "L5eBmEFcADwR",
        "outputId": "1e057c47-d7b9-41a4-ea24-9e09c2d30733"
      },
      "outputs": [
        {
          "data": {
            "text/plain": [
              "array(-0.01911618, dtype=float32)"
            ]
          },
          "execution_count": 29,
          "metadata": {},
          "output_type": "execute_result"
        }
      ],
      "source": [
        "# ejemplo de inferencia con mensajes nuevos\n",
        "text = \"como puedo ayudarte? | estas bien?\"\n",
        "input_ids, attention_mask = tokenizer.encode_plus(text, padding=True, truncation=True, return_tensors='pt').values()\n",
        "out = model(input_ids.to(device), attention_mask.to(device)).squeeze().cpu().detach().numpy()\n",
        "out"
      ]
    }
  ],
  "metadata": {
    "accelerator": "GPU",
    "colab": {
      "gpuType": "T4",
      "provenance": []
    },
    "kernelspec": {
      "display_name": "Python 3",
      "name": "python3"
    },
    "language_info": {
      "name": "python"
    },
    "widgets": {
      "application/vnd.jupyter.widget-state+json": {
        "0a2d7f61cba84acaafff208e7c885274": {
          "model_module": "@jupyter-widgets/controls",
          "model_module_version": "1.5.0",
          "model_name": "DescriptionStyleModel",
          "state": {
            "_model_module": "@jupyter-widgets/controls",
            "_model_module_version": "1.5.0",
            "_model_name": "DescriptionStyleModel",
            "_view_count": null,
            "_view_module": "@jupyter-widgets/base",
            "_view_module_version": "1.2.0",
            "_view_name": "StyleView",
            "description_width": ""
          }
        },
        "23157509c9594124a8e6a7b02f096765": {
          "model_module": "@jupyter-widgets/controls",
          "model_module_version": "1.5.0",
          "model_name": "FloatProgressModel",
          "state": {
            "_dom_classes": [],
            "_model_module": "@jupyter-widgets/controls",
            "_model_module_version": "1.5.0",
            "_model_name": "FloatProgressModel",
            "_view_count": null,
            "_view_module": "@jupyter-widgets/controls",
            "_view_module_version": "1.5.0",
            "_view_name": "ProgressView",
            "bar_style": "",
            "description": "",
            "description_tooltip": null,
            "layout": "IPY_MODEL_bf4fd824aa03482f9f13a1133a9c7080",
            "max": 1,
            "min": 0,
            "orientation": "horizontal",
            "style": "IPY_MODEL_49298f2b50fa4d83bae0ecc1e74217f2",
            "value": 0.03391584272246494
          }
        },
        "453304cdc2784f40a822d7509c3dae94": {
          "model_module": "@jupyter-widgets/controls",
          "model_module_version": "1.5.0",
          "model_name": "LabelModel",
          "state": {
            "_dom_classes": [],
            "_model_module": "@jupyter-widgets/controls",
            "_model_module_version": "1.5.0",
            "_model_name": "LabelModel",
            "_view_count": null,
            "_view_module": "@jupyter-widgets/controls",
            "_view_module_version": "1.5.0",
            "_view_name": "LabelView",
            "description": "",
            "description_tooltip": null,
            "layout": "IPY_MODEL_e908b9b7357b452da7e3671c3dc5df9c",
            "placeholder": "​",
            "style": "IPY_MODEL_0a2d7f61cba84acaafff208e7c885274",
            "value": "0.001 MB of 0.033 MB uploaded (0.000 MB deduped)\r"
          }
        },
        "49298f2b50fa4d83bae0ecc1e74217f2": {
          "model_module": "@jupyter-widgets/controls",
          "model_module_version": "1.5.0",
          "model_name": "ProgressStyleModel",
          "state": {
            "_model_module": "@jupyter-widgets/controls",
            "_model_module_version": "1.5.0",
            "_model_name": "ProgressStyleModel",
            "_view_count": null,
            "_view_module": "@jupyter-widgets/base",
            "_view_module_version": "1.2.0",
            "_view_name": "StyleView",
            "bar_color": null,
            "description_width": ""
          }
        },
        "5666c874f62c47cc87bafdbd5cc05968": {
          "model_module": "@jupyter-widgets/base",
          "model_module_version": "1.2.0",
          "model_name": "LayoutModel",
          "state": {
            "_model_module": "@jupyter-widgets/base",
            "_model_module_version": "1.2.0",
            "_model_name": "LayoutModel",
            "_view_count": null,
            "_view_module": "@jupyter-widgets/base",
            "_view_module_version": "1.2.0",
            "_view_name": "LayoutView",
            "align_content": null,
            "align_items": null,
            "align_self": null,
            "border": null,
            "bottom": null,
            "display": null,
            "flex": null,
            "flex_flow": null,
            "grid_area": null,
            "grid_auto_columns": null,
            "grid_auto_flow": null,
            "grid_auto_rows": null,
            "grid_column": null,
            "grid_gap": null,
            "grid_row": null,
            "grid_template_areas": null,
            "grid_template_columns": null,
            "grid_template_rows": null,
            "height": null,
            "justify_content": null,
            "justify_items": null,
            "left": null,
            "margin": null,
            "max_height": null,
            "max_width": null,
            "min_height": null,
            "min_width": null,
            "object_fit": null,
            "object_position": null,
            "order": null,
            "overflow": null,
            "overflow_x": null,
            "overflow_y": null,
            "padding": null,
            "right": null,
            "top": null,
            "visibility": null,
            "width": null
          }
        },
        "8e31c7d05a1346738712f8b2294f555f": {
          "model_module": "@jupyter-widgets/controls",
          "model_module_version": "1.5.0",
          "model_name": "VBoxModel",
          "state": {
            "_dom_classes": [],
            "_model_module": "@jupyter-widgets/controls",
            "_model_module_version": "1.5.0",
            "_model_name": "VBoxModel",
            "_view_count": null,
            "_view_module": "@jupyter-widgets/controls",
            "_view_module_version": "1.5.0",
            "_view_name": "VBoxView",
            "box_style": "",
            "children": [
              "IPY_MODEL_453304cdc2784f40a822d7509c3dae94",
              "IPY_MODEL_23157509c9594124a8e6a7b02f096765"
            ],
            "layout": "IPY_MODEL_5666c874f62c47cc87bafdbd5cc05968"
          }
        },
        "bf4fd824aa03482f9f13a1133a9c7080": {
          "model_module": "@jupyter-widgets/base",
          "model_module_version": "1.2.0",
          "model_name": "LayoutModel",
          "state": {
            "_model_module": "@jupyter-widgets/base",
            "_model_module_version": "1.2.0",
            "_model_name": "LayoutModel",
            "_view_count": null,
            "_view_module": "@jupyter-widgets/base",
            "_view_module_version": "1.2.0",
            "_view_name": "LayoutView",
            "align_content": null,
            "align_items": null,
            "align_self": null,
            "border": null,
            "bottom": null,
            "display": null,
            "flex": null,
            "flex_flow": null,
            "grid_area": null,
            "grid_auto_columns": null,
            "grid_auto_flow": null,
            "grid_auto_rows": null,
            "grid_column": null,
            "grid_gap": null,
            "grid_row": null,
            "grid_template_areas": null,
            "grid_template_columns": null,
            "grid_template_rows": null,
            "height": null,
            "justify_content": null,
            "justify_items": null,
            "left": null,
            "margin": null,
            "max_height": null,
            "max_width": null,
            "min_height": null,
            "min_width": null,
            "object_fit": null,
            "object_position": null,
            "order": null,
            "overflow": null,
            "overflow_x": null,
            "overflow_y": null,
            "padding": null,
            "right": null,
            "top": null,
            "visibility": null,
            "width": null
          }
        },
        "e908b9b7357b452da7e3671c3dc5df9c": {
          "model_module": "@jupyter-widgets/base",
          "model_module_version": "1.2.0",
          "model_name": "LayoutModel",
          "state": {
            "_model_module": "@jupyter-widgets/base",
            "_model_module_version": "1.2.0",
            "_model_name": "LayoutModel",
            "_view_count": null,
            "_view_module": "@jupyter-widgets/base",
            "_view_module_version": "1.2.0",
            "_view_name": "LayoutView",
            "align_content": null,
            "align_items": null,
            "align_self": null,
            "border": null,
            "bottom": null,
            "display": null,
            "flex": null,
            "flex_flow": null,
            "grid_area": null,
            "grid_auto_columns": null,
            "grid_auto_flow": null,
            "grid_auto_rows": null,
            "grid_column": null,
            "grid_gap": null,
            "grid_row": null,
            "grid_template_areas": null,
            "grid_template_columns": null,
            "grid_template_rows": null,
            "height": null,
            "justify_content": null,
            "justify_items": null,
            "left": null,
            "margin": null,
            "max_height": null,
            "max_width": null,
            "min_height": null,
            "min_width": null,
            "object_fit": null,
            "object_position": null,
            "order": null,
            "overflow": null,
            "overflow_x": null,
            "overflow_y": null,
            "padding": null,
            "right": null,
            "top": null,
            "visibility": null,
            "width": null
          }
        }
      }
    }
  },
  "nbformat": 4,
  "nbformat_minor": 0
}
